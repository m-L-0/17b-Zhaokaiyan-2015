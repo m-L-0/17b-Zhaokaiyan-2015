{
 "cells": [
  {
   "cell_type": "code",
   "execution_count": null,
   "metadata": {
    "collapsed": true
   },
   "outputs": [],
   "source": [
    "import os \n",
    "import tensorflow as tf \n",
    "from PIL import Image  # 注意Image,后面会用到\n",
    "\n",
    "cwd = './数字_字母//'\n",
    "classes = {'0', '1', '2', '3', '4', '5', '6', '7', '8', '9', 'A', 'B', 'C', 'D', 'E', 'F', 'G', 'H', 'J', 'K', 'L', 'M',\n",
    "           'N', 'P', 'Q', 'R', 'S', 'T', 'U', 'V', 'W', 'X', 'Y', 'Z'}  # 人为 设定 2 类\n",
    "writer1 = tf.python_io.TFRecordWriter(\"train.tfrecords\")  # 要生成的文件\n",
    " \n",
    "for index, name in enumerate(classes):\n",
    "    class_path = cwd+name+'//'\n",
    "    n = 0\n",
    "    for img_name in os.listdir(class_path): \n",
    "        n += 1\n",
    "        img_path = class_path + img_name  # 每一个图片的地址\n",
    "        img = Image.open(img_path)\n",
    "        img = img.resize((48, 24))\n",
    "        img = img.convert('L')\n",
    "        if n > len(os.listdir(class_path)) * 0.7:\n",
    "            break\n",
    "        img_raw = img.tobytes()  # 将图片转化为二进制格式\n",
    "        example = tf.train.Example(features=tf.train.Features(feature={\n",
    "            \"label\": tf.train.Feature(int64_list=tf.train.Int64List(value=[index])),\n",
    "            'img_raw': tf.train.Feature(bytes_list=tf.train.BytesList(value=[img_raw]))\n",
    "        }))  # example对象对label和image数据进行封装\n",
    "        writer1.write(example.SerializeToString())  # 序列化为字符串\n",
    "\n",
    "writer1.close()\n",
    "\n",
    "writer2 = tf.python_io.TFRecordWriter(\"validation.tfrecords\")  # 要生成的文件\n",
    " \n",
    "for index, name in enumerate(classes):\n",
    "    class_path = cwd+name+'//'\n",
    "    n = 0\n",
    "    for img_name in os.listdir(class_path): \n",
    "        n += 1\n",
    "        img_path = class_path + img_name  # 每一个图片的地址\n",
    "        img = Image.open(img_path)\n",
    "        img = img.resize((48, 24))\n",
    "        img = img.convert('L')\n",
    "        if n > len(os.listdir(class_path)) * 0.7:\n",
    "            img_raw = img.tobytes()  # 将图片转化为二进制格式\n",
    "            example = tf.train.Example(features=tf.train.Features(feature={\n",
    "                \"label\": tf.train.Feature(int64_list=tf.train.Int64List(value=[index])),\n",
    "                'img_raw': tf.train.Feature(bytes_list=tf.train.BytesList(value=[img_raw]))\n",
    "            }))  # example对象对label和image数据进行封装\n",
    "            writer2.write(example.SerializeToString())  # 序列化为字符串\n",
    "\n",
    "writer2.close()"
   ]
  }
 ],
 "metadata": {
  "kernelspec": {
   "display_name": "Python 3",
   "language": "python",
   "name": "python3"
  },
  "language_info": {
   "codemirror_mode": {
    "name": "ipython",
    "version": 3
   },
   "file_extension": ".py",
   "mimetype": "text/x-python",
   "name": "python",
   "nbconvert_exporter": "python",
   "pygments_lexer": "ipython3",
   "version": "3.6.0"
  }
 },
 "nbformat": 4,
 "nbformat_minor": 2
}
