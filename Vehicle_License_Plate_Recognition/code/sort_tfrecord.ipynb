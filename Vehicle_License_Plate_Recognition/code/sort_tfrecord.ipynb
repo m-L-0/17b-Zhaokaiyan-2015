{
 "cells": [
  {
   "cell_type": "code",
   "execution_count": null,
   "metadata": {
    "collapsed": true
   },
   "outputs": [],
   "source": [
    "import tensorflow as tf\n",
    "from PIL import Image\n",
    "import numpy\n",
    "import  matplotlib.pyplot as plt\n",
    "from images_convert import images_convert\n",
    "\n",
    "\n",
    "\n",
    "# 读取数据\n",
    "print('loading data...')\n",
    "data = images_convert()  # 分别读出训练集和验证集\n",
    "\n",
    "# 转为tfrecord文件\n",
    "config = ['train', 'validation']\n",
    "for each in range(len(config)):\n",
    "    mnist_type = config[each]\n",
    "    # tfrecord格式文件名\n",
    "    with tf.python_io.TFRecordWriter('images_' + mnist_type + '.tfrecords') as writer:\n",
    "        image_path = data[each]\n",
    "        for num_image in range(image_path.shape[0]):\n",
    "            image = Image.fromarray(data[each][num_image][1:].reshape(48, 24))\n",
    "            image_byte = image.tobytes()\n",
    "            label = data[each][num_image][0]\n",
    "            example = tf.train.Example(features=tf.train.Features(feature={  \n",
    "                    \"label\": tf.train.Feature(int64_list=tf.train.Int64List(value=[int(label)])),  \n",
    "                    'data': tf.train.Feature(bytes_list=tf.train.BytesList(value=[image_byte]))  \n",
    "                }))\n",
    "            writer.write(example.SerializeToString())\n",
    "print('successful')\n"
   ]
  }
 ],
 "metadata": {
  "kernelspec": {
   "display_name": "Python 3",
   "language": "python",
   "name": "python3"
  },
  "language_info": {
   "codemirror_mode": {
    "name": "ipython",
    "version": 3
   },
   "file_extension": ".py",
   "mimetype": "text/x-python",
   "name": "python",
   "nbconvert_exporter": "python",
   "pygments_lexer": "ipython3",
   "version": "3.6.0"
  }
 },
 "nbformat": 4,
 "nbformat_minor": 2
}
